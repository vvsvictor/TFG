{
 "cells": [
  {
   "cell_type": "code",
   "execution_count": null,
   "metadata": {},
   "outputs": [],
   "source": [
    "#Importar plt\n",
    "import matplotlib.pyplot as plt\n",
    "import numpy as np\n",
    "from PIL import Image"
   ]
  },
  {
   "cell_type": "markdown",
   "metadata": {},
   "source": [
    "# L1 Local Unstructured Pruning"
   ]
  },
  {
   "cell_type": "markdown",
   "metadata": {},
   "source": [
    "## CUB 2011"
   ]
  },
  {
   "cell_type": "code",
   "execution_count": null,
   "metadata": {},
   "outputs": [],
   "source": [
    "fine_tuning_acc = [0.6160551467289413]\n",
    "feature_extraction_acc = [0.4853316226421843]"
   ]
  },
  {
   "cell_type": "markdown",
   "metadata": {},
   "source": [
    "10% With fine tuning"
   ]
  },
  {
   "cell_type": "code",
   "execution_count": null,
   "metadata": {},
   "outputs": [],
   "source": [
    "#Validation balanced accuracy\n",
    "val_bal_acc = [0.32126503514736376, 0.4422435432461076, 0.47923154787673844, 0.4941840699397514, 0.5278129861479105, 0.5545353369936538, 0.5683144852632545, 0.6068176000573419, 0.622798367361178, 0.6263509032138795, 0.6289772048875457, 0.6184422382453434, 0.6315976774948605, 0.6343370097248027, 0.6259343843488283, 0.6321153343063703, 0.6354739219532088, 0.6317134409577199, 0.6266173532214329, 0.6284773275674993, 0.6290494014192234, 0.631085367578463, 0.636514184805612, 0.6393244358397248, 0.6395986428789046]\n",
    "train_bal_acc = [0.09672988505747128, 0.3085919540229884, 0.420896551724138, 0.4749252873563222, 0.5228160919540229, 0.5653333333333334, 0.5965919540229888, 0.6575919540229888, 0.6819885057471267, 0.6918160919540235, 0.7020057471264368, 0.6969655172413796, 0.6963678160919541, 0.7080287356321838, 0.7105287356321839, 0.7212011494252876, 0.719195402298851, 0.7150000000000007, 0.7344022988505747, 0.714580459770115, 0.7218563218390806, 0.7230517241379314, 0.7198390804597701, 0.7153505747126436, 0.7198390804597704]\n",
    "\n",
    "plt.plot(train_bal_acc, label='Train')\n",
    "plt.plot(val_bal_acc, label='Validation')\n",
    "plt.title('Balanced Accuracy')\n",
    "plt.xlabel('Epoch')\n",
    "plt.ylabel('Balanced Accuracy')\n",
    "plt.legend()\n",
    "plt.show()\n",
    "\n",
    "fine_tuning_acc.append(max(val_bal_acc))\n"
   ]
  },
  {
   "cell_type": "markdown",
   "metadata": {},
   "source": [
    "10% with feature extraction"
   ]
  },
  {
   "cell_type": "code",
   "execution_count": null,
   "metadata": {},
   "outputs": [],
   "source": [
    "#Validation balanced accuracy\n",
    "val_bal_acc = [0.27624911784414274, 0.37535791065462426, 0.4199906955074438, 0.4378000654258051, 0.4682470945752328, 0.47109720643049363, 0.47853109592681903, 0.4905935708929278, 0.49240787234062317, 0.4916764127707073, 0.4983746326750746, 0.500905668131956, 0.49785100994043247, 0.5049424549056247, 0.5001618887971172, 0.5118897359417166, 0.5013255394053151, 0.50418921543312, 0.4966283098650537, 0.4950392804806913, 0.49888581972297324, 0.49144567995678623, 0.5022532436373083, 0.5035984911080981, 0.49995854846557103]\n",
    "train_bal_acc = [0.09206896551724142, 0.27191379310344854, 0.34830459770114947, 0.38817241379310347, 0.428051724137931, 0.4430632183908046, 0.4629540229885055, 0.4777356321839081, 0.49163218390804597, 0.49148850574712655, 0.4956896551724139, 0.503971264367816, 0.507494252873563, 0.4991436781609191, 0.5076724137931033, 0.5119770114942531, 0.5034999999999998, 0.508051724137931, 0.510183908045977, 0.5040517241379311, 0.49530459770114954, 0.5041896551724142, 0.5004482758620693, 0.5046666666666662, 0.5076379310344826]\n",
    "\n",
    "plt.plot(train_bal_acc, label='Train')\n",
    "plt.plot(val_bal_acc, label='Validation')\n",
    "plt.title('Balanced Accuracy')\n",
    "plt.xlabel('Epoch')\n",
    "plt.ylabel('Balanced Accuracy')\n",
    "plt.legend()\n",
    "plt.show()\n",
    "\n",
    "feature_extraction_acc.append(max(val_bal_acc))\n",
    "\n"
   ]
  },
  {
   "cell_type": "markdown",
   "metadata": {},
   "source": [
    "20% With fine tuning"
   ]
  },
  {
   "cell_type": "code",
   "execution_count": null,
   "metadata": {},
   "outputs": [],
   "source": [
    "#Validation balanced accuracy\n",
    "val_bal_acc = [0.282384353073535, 0.4229866308002502, 0.477524390031413, 0.5057414816034915, 0.5306505302769806, 0.5487542926028093, 0.5571398339613047, 0.6078058982000434, 0.6152354169031358, 0.6159602748356788, 0.6328076470057847, 0.6238608702159956, 0.6314755376290334, 0.620811436139634, 0.6297475816346052, 0.6366280129896082, 0.6265256166791321, 0.6337915211755465, 0.6286841971881428, 0.6332115243219358, 0.6274557960268922, 0.6353360096961063, 0.6227970278141508, 0.6340865793143474, 0.6412218419390362]\n",
    "train_bal_acc = [0.09109770114942525, 0.3000689655172415, 0.4043620689655173, 0.46718390804597687, 0.513264367816092, 0.5545517241379313, 0.5857011494252875, 0.6546149425287356, 0.6717471264367816, 0.6759425287356325, 0.6806321839080464, 0.6923218390804603, 0.6929827586206896, 0.695683908045977, 0.6978620689655177, 0.7113218390804603, 0.7071896551724142, 0.7120057471264367, 0.6983448275862071, 0.7018218390804595, 0.7100000000000005, 0.7075114942528735, 0.7055229885057475, 0.7063160919540229, 0.7110000000000002]\n",
    "\n",
    "plt.plot(train_bal_acc, label='Train')\n",
    "plt.plot(val_bal_acc, label='Validation')\n",
    "plt.title('Balanced Accuracy')\n",
    "plt.xlabel('Epoch')\n",
    "plt.ylabel('Balanced Accuracy')\n",
    "plt.legend()\n",
    "plt.show()\n",
    "\n",
    "fine_tuning_acc.append(max(val_bal_acc))\n"
   ]
  },
  {
   "cell_type": "markdown",
   "metadata": {},
   "source": [
    "20% with feature extraction"
   ]
  },
  {
   "cell_type": "code",
   "execution_count": null,
   "metadata": {},
   "outputs": [],
   "source": [
    "#Validation balanced accuracy\n",
    "val_bal_acc = [0.2628580646589208, 0.3782961204030603, 0.40151099673915913, 0.4215260055014061, 0.44450644340914985, 0.4723242826134997, 0.46537741364112395, 0.48686580974794125, 0.4829742762979764, 0.48538497763856825, 0.4894949972624558, 0.49254254229686245, 0.49528915917805705, 0.5027866507467829, 0.4860528877318705, 0.5040549379311314, 0.48567973836398826, 0.48978067416201637, 0.49556100704883527, 0.4851079212491072, 0.49234822794887506, 0.4897401606316621, 0.49009756996395915, 0.48749417388608995, 0.4891417370800903]\n",
    "train_bal_acc = [0.08254022988505741, 0.24233908045977035, 0.33, 0.3715114942528735, 0.40827586206896577, 0.4327126436781612, 0.44047701149425256, 0.4693045977011495, 0.4732701149425288, 0.4776609195402296, 0.4745977011494251, 0.4838218390804595, 0.47878735632183905, 0.4881436781609195, 0.4904137931034483, 0.49451149425287366, 0.4911379310344825, 0.48551149425287343, 0.4873448275862068, 0.480310344827586, 0.4822471264367818, 0.4971264367816094, 0.4910287356321836, 0.4919367816091952, 0.4921436781609198]\n",
    "\n",
    "plt.plot(train_bal_acc, label='Train')\n",
    "plt.plot(val_bal_acc, label='Validation')\n",
    "plt.title('Balanced Accuracy')\n",
    "plt.xlabel('Epoch')\n",
    "plt.ylabel('Balanced Accuracy')\n",
    "plt.legend()\n",
    "plt.show()\n",
    "\n",
    "feature_extraction_acc.append(max(val_bal_acc))\n"
   ]
  },
  {
   "cell_type": "markdown",
   "metadata": {},
   "source": [
    "30% with fine tuning"
   ]
  },
  {
   "cell_type": "code",
   "execution_count": null,
   "metadata": {},
   "outputs": [],
   "source": [
    "#Validation balanced accuracy\n",
    "val_bal_acc = [0.27096278135096896, 0.414246301823967, 0.4750518457084382, 0.4944479726788377, 0.5335587229023673, 0.5430134224247104, 0.5695918580463873, 0.5955232029923895, 0.6072432675078064, 0.6125535569192756, 0.6150011225874872, 0.6194892015692736, 0.625878622729664, 0.6190565102276022, 0.631111333559491, 0.6295498351171436, 0.628579908466498, 0.6295444442894141, 0.6243960929746262, 0.6263870871391982, 0.6264478471092138, 0.6209776854603063, 0.6163566492863422, 0.6270409360797983, 0.6352517841897822]\n",
    "train_bal_acc = [0.07270114942528727, 0.2765632183908046, 0.3923850574712644, 0.45587931034482765, 0.49974712643678204, 0.5554942528735635, 0.5717011494252876, 0.6439655172413795, 0.6569885057471265, 0.667298850574713, 0.6612873563218392, 0.6646034482758619, 0.6681781609195402, 0.6828678160919539, 0.6858275862068968, 0.6838448275862067, 0.6890057471264369, 0.6873678160919541, 0.6990000000000003, 0.6926666666666672, 0.6898333333333336, 0.6928160919540232, 0.6876551724137937, 0.6938908045977016, 0.7025402298850573]\n",
    "\n",
    "plt.plot(train_bal_acc, label='Train')\n",
    "plt.plot(val_bal_acc, label='Validation')\n",
    "plt.title('Balanced Accuracy')\n",
    "plt.xlabel('Epoch')\n",
    "plt.ylabel('Balanced Accuracy')\n",
    "plt.legend()\n",
    "plt.show()\n",
    "\n",
    "fine_tuning_acc.append(max(val_bal_acc))\n"
   ]
  },
  {
   "cell_type": "markdown",
   "metadata": {},
   "source": [
    "30% with feature extraction"
   ]
  },
  {
   "cell_type": "code",
   "execution_count": null,
   "metadata": {},
   "outputs": [],
   "source": [
    "#Validation balanced accuracy\n",
    "val_bal_acc = [0.24990154712327847, 0.34945424236255135, 0.3988079208857636, 0.4214765577664459, 0.44830233476773357, 0.4466578230395993, 0.4502001358379881, 0.4686434988627049, 0.4696225523083607, 0.4721384812687976, 0.47769939977870185, 0.47764791511623383, 0.4846508445072317, 0.47641021845989073, 0.4913355033739707, 0.4866580749802757, 0.48464128682222246, 0.47790952226549555, 0.47924891945907083, 0.4753939605062657, 0.4711446446179145, 0.48981628805232147, 0.4752595561098878, 0.48133685577597857, 0.4812761146373553]\n",
    "train_bal_acc = [0.07201724137931026, 0.21315517241379334, 0.3036034482758621, 0.3501551724137935, 0.3865804597701149, 0.40782183908046, 0.42002298850574715, 0.4381896551724136, 0.4539712643678165, 0.4480689655172413, 0.4665747126436781, 0.4629137931034481, 0.464126436781609, 0.4562241379310348, 0.46157471264367833, 0.45454022988505727, 0.46878160919540224, 0.457942528735632, 0.4608850574712644, 0.4649195402298848, 0.45844827586206927, 0.46475287356321837, 0.4579252873563218, 0.4604425287356321, 0.46038505747126424]\n",
    "\n",
    "plt.plot(train_bal_acc, label='Train')\n",
    "plt.plot(val_bal_acc, label='Validation')\n",
    "plt.title('Balanced Accuracy')\n",
    "plt.xlabel('Epoch')\n",
    "plt.ylabel('Balanced Accuracy')\n",
    "plt.legend()\n",
    "plt.show()\n",
    "\n",
    "feature_extraction_acc.append(max(val_bal_acc))\n"
   ]
  },
  {
   "cell_type": "markdown",
   "metadata": {},
   "source": [
    "40% with fine tuning"
   ]
  },
  {
   "cell_type": "code",
   "execution_count": null,
   "metadata": {},
   "outputs": [],
   "source": [
    "#Validation balanced accuracy\n",
    "val_bal_acc = [0.22809913650882638, 0.3890069170953139, 0.45516215245413155, 0.48467726208914164, 0.5341933192205622, 0.5569566278978217, 0.5714374840624742, 0.6016341844106774, 0.6087253092604429, 0.619132522692098, 0.60959042085348, 0.6158922050547947, 0.6062254293726127, 0.6191328941683233, 0.617633587529981, 0.6205064036201692, 0.6254186480736822, 0.6217282888217747, 0.6251092535285306, 0.6304768051693407, 0.6188081238049677, 0.6185051970271528, 0.6234832890652547, 0.6252711437920149, 0.6285323809160901]\n",
    "train_bal_acc = [0.05721264367816085, 0.25056321839080486, 0.37665517241379304, 0.4410402298850576, 0.49863793103448273, 0.5297758620689653, 0.5526954022988501, 0.6272528735632185, 0.6488908045977013, 0.6454482758620692, 0.6597758620689653, 0.6516264367816091, 0.6719540229885061, 0.6649770114942534, 0.6752471264367815, 0.6726551724137931, 0.6834712643678165, 0.6773505747126438, 0.6777816091954024, 0.6770574712643674, 0.6797873563218393, 0.678540229885058, 0.6759137931034485, 0.674471264367816, 0.686816091954023]\n",
    "\n",
    "plt.plot(train_bal_acc, label='Train')\n",
    "plt.plot(val_bal_acc, label='Validation')\n",
    "plt.title('Balanced Accuracy')\n",
    "plt.xlabel('Epoch')\n",
    "plt.ylabel('Balanced Accuracy')\n",
    "plt.legend()\n",
    "plt.show()\n",
    "\n",
    "fine_tuning_acc.append(max(val_bal_acc))\n"
   ]
  },
  {
   "cell_type": "markdown",
   "metadata": {},
   "source": [
    "40% with feature extraction"
   ]
  },
  {
   "cell_type": "code",
   "execution_count": null,
   "metadata": {},
   "outputs": [],
   "source": [
    "#Validation balanced accuracy\n",
    "val_bal_acc = [0.20312578816494628, 0.31465469306799304, 0.3685291943532296, 0.39878411561799476, 0.4239025673584974, 0.4290083831754311, 0.44229883784746493, 0.45465841864443207, 0.4506105040001514, 0.4530042541371349, 0.45334369268386476, 0.4521022043273482, 0.44926807808874003, 0.4638438682953599, 0.45238014554190714, 0.4511057101115098, 0.4614366184986796, 0.4600296487131296, 0.45124777014414424, 0.47419623617919204, 0.46131872328933016, 0.46136713165331095, 0.4625705510737865, 0.4558038158523837, 0.46085695141268035]\n",
    "train_bal_acc = [0.057534482758620636, 0.19033908045977013, 0.26351149425287385, 0.3128563218390805, 0.34114367816091956, 0.3667126436781609, 0.3860574712643676, 0.40202873563218383, 0.40402298850574697, 0.41047701149425303, 0.41874712643678164, 0.42605747126436766, 0.41737931034482806, 0.41991379310344834, 0.4287471264367821, 0.42455172413793124, 0.42356321839080435, 0.4223965517241378, 0.42226436781609195, 0.4274482758620692, 0.43095402298850594, 0.4145114942528737, 0.4357816091954023, 0.4158850574712644, 0.41772413793103447]\n",
    "\n",
    "plt.plot(train_bal_acc, label='Train')\n",
    "plt.plot(val_bal_acc, label='Validation')\n",
    "plt.title('Balanced Accuracy')\n",
    "plt.xlabel('Epoch')\n",
    "plt.ylabel('Balanced Accuracy')\n",
    "plt.legend()\n",
    "plt.show()\n",
    "\n",
    "feature_extraction_acc.append(max(val_bal_acc))\n"
   ]
  },
  {
   "cell_type": "markdown",
   "metadata": {},
   "source": [
    "50% with fine tuning"
   ]
  },
  {
   "cell_type": "code",
   "execution_count": null,
   "metadata": {},
   "outputs": [],
   "source": [
    "#Validation balanced accuracy\n",
    "val_bal_acc = [0.1883546396118005, 0.37694438192057156, 0.4133952137456633, 0.4975494333690896, 0.5056677450595035, 0.5390570788575604, 0.546470330875977, 0.5875656856966536, 0.5913442066349033, 0.5907995389343728, 0.6039729729327692, 0.6001353445317581, 0.6089917957446956, 0.6182119158849806, 0.6074992902367835, 0.6140693161898875, 0.6190471014821207, 0.6116473613338794, 0.6197775629787388, 0.6076354125254937, 0.617669552173951, 0.6059340757293097, 0.6076732212802994, 0.6160686934729585, 0.6166004767945116]\n",
    "train_bal_acc = [0.03553448275862065, 0.2223908045977012, 0.3292701149425287, 0.4053620689655172, 0.4638965517241378, 0.4946436781609196, 0.5268045977011494, 0.5918620689655174, 0.6102643678160922, 0.6208678160919541, 0.6242471264367812, 0.6250919540229884, 0.6213735632183907, 0.6312471264367818, 0.6401034482758625, 0.6549540229885057, 0.6530229885057477, 0.6467298850574714, 0.6490804597701151, 0.644080459770115, 0.6512873563218391, 0.6491666666666667, 0.6444080459770114, 0.637913793103448, 0.6390862068965518]\n",
    "plt.plot(train_bal_acc, label='Train')\n",
    "plt.plot(val_bal_acc, label='Validation')\n",
    "plt.title('Balanced Accuracy')\n",
    "plt.xlabel('Epoch')\n",
    "plt.ylabel('Balanced Accuracy')\n",
    "plt.legend()\n",
    "plt.show()\n",
    "fine_tuning_acc.append(max(val_bal_acc))\n"
   ]
  },
  {
   "cell_type": "markdown",
   "metadata": {},
   "source": [
    "50% with feature extraction"
   ]
  },
  {
   "cell_type": "code",
   "execution_count": null,
   "metadata": {},
   "outputs": [],
   "source": [
    "#Validation balanced accuracy\n",
    "val_bal_acc = [0.1649668480310792, 0.2619213062247467, 0.32827654112168425, 0.3526990886424919, 0.386216091536083, 0.39010549723356475, 0.4097832382261877, 0.40951848060902757, 0.42271952600619805, 0.42604207908693825, 0.4173272705460425, 0.4243540712176001, 0.42814543361093127, 0.41588301513739473, 0.4155814182682921, 0.4241199465377638, 0.4291006554431157, 0.4150971934025272, 0.4276235308955464, 0.4233148910790353, 0.42411827197953206, 0.4223910488729794, 0.4114248077039644, 0.4207853631225762, 0.42689763671161146]\n",
    "train_bal_acc = [0.044712643678160885, 0.14445402298850588, 0.2187011494252874, 0.2727528735632186, 0.30397701149425305, 0.3252873563218392, 0.3353275862068966, 0.3608390804597704, 0.36266091954023005, 0.3636436781609196, 0.367344827586207, 0.37004022988505736, 0.36956321839080464, 0.3790862068965517, 0.3761896551724137, 0.3848620689655173, 0.3773103448275862, 0.38300000000000006, 0.3833160919540232, 0.37951149425287356, 0.3760229885057471, 0.3753793103448272, 0.37366666666666665, 0.37371264367816037, 0.3795632183908044]\n",
    "\n",
    "plt.plot(train_bal_acc, label='Train')\n",
    "plt.plot(val_bal_acc, label='Validation')\n",
    "plt.title('Balanced Accuracy')\n",
    "plt.xlabel('Epoch')\n",
    "plt.ylabel('Balanced Accuracy')\n",
    "plt.legend()\n",
    "plt.show()\n",
    "\n",
    "feature_extraction_acc.append(max(val_bal_acc))"
   ]
  },
  {
   "cell_type": "markdown",
   "metadata": {},
   "source": [
    "60% with fine tuning "
   ]
  },
  {
   "cell_type": "code",
   "execution_count": null,
   "metadata": {},
   "outputs": [],
   "source": [
    "#Validation balanced accuracy\n",
    "val_bal_acc = [0.08968076879735527, 0.31213279415100226, 0.4069562604849435, 0.453051938560342, 0.472590138208145, 0.5028382978796457, 0.5317721391260014, 0.5735317213407248, 0.577906363963592, 0.5857472969353347, 0.5897024084447545, 0.5966081423654214, 0.5956644148715092, 0.5926224462744822, 0.5999835710587896, 0.5987900999177928, 0.5936277903543743, 0.6000641656127731, 0.6017945275548254, 0.6006852266959979, 0.6008307458729817, 0.5985284285001989, 0.6024706756028659, 0.6070134125462578, 0.5969166466170727]\n",
    "train_bal_acc = [0.016350574712643676, 0.12057471264367838, 0.27071839080459775, 0.34745977011494256, 0.412206896551724, 0.4577356321839078, 0.48514367816091947, 0.54464367816092, 0.5758103448275865, 0.579051724137931, 0.586206896551724, 0.5783563218390805, 0.5886896551724139, 0.5985402298850573, 0.590879310344828, 0.5960459770114944, 0.6089195402298855, 0.605045977011494, 0.6090574712643678, 0.6130287356321843, 0.5998563218390801, 0.6053850574712643, 0.5984022988505752, 0.6022988505747126, 0.6043850574712644]\n",
    "\n",
    "plt.plot(train_bal_acc, label='Train')\n",
    "plt.plot(val_bal_acc, label='Validation')\n",
    "plt.title('Balanced Accuracy')\n",
    "plt.xlabel('Epoch')\n",
    "plt.ylabel('Balanced Accuracy')\n",
    "plt.legend()\n",
    "plt.show()\n",
    "\n",
    "fine_tuning_acc.append(max(val_bal_acc))"
   ]
  },
  {
   "cell_type": "markdown",
   "metadata": {},
   "source": [
    "60% with feature extraction"
   ]
  },
  {
   "cell_type": "code",
   "execution_count": null,
   "metadata": {},
   "outputs": [],
   "source": [
    "#Validation balanced accuracy\n",
    "val_bal_acc = [0.11051996674384831, 0.18396203400233638, 0.24057286694531238, 0.26376200720979015, 0.28561148975640416, 0.30854890480328423, 0.31633541811374605, 0.33234657985020966, 0.3241321444307318, 0.33045285420425485, 0.33198544413639497, 0.3237944094360099, 0.335642286600564, 0.3373974685450856, 0.33387753252998276, 0.3301562571786475, 0.33301094495647876, 0.3375383957103361, 0.34281314314479316, 0.3316009915498988, 0.33276006501294525, 0.3410550245241521, 0.333274304092382, 0.3372077772755197, 0.3343373278986983]\n",
    "train_bal_acc = [0.024189655172413786, 0.08574712643678156, 0.13867241379310372, 0.1803390804597703, 0.2013160919540233, 0.23715517241379327, 0.24626436781609212, 0.2608448275862071, 0.27067816091954017, 0.2632356321839082, 0.280028735632184, 0.2805172413793102, 0.2738563218390806, 0.27845402298850586, 0.27541954022988513, 0.2770689655172415, 0.281919540229885, 0.28009195402298853, 0.288080459770115, 0.2782816091954024, 0.2824080459770114, 0.2784080459770115, 0.29576436781609206, 0.27858045977011486, 0.2874137931034484]\n",
    "\n",
    "plt.plot(train_bal_acc, label='Train')\n",
    "plt.plot(val_bal_acc, label='Validation')\n",
    "plt.title('Balanced Accuracy')\n",
    "plt.xlabel('Epoch')\n",
    "plt.ylabel('Balanced Accuracy')\n",
    "plt.legend()\n",
    "plt.show()\n",
    "\n",
    "feature_extraction_acc.append(max(val_bal_acc))"
   ]
  },
  {
   "cell_type": "markdown",
   "metadata": {},
   "source": [
    "Results of local (unstructured*) pruning fine tuning"
   ]
  },
  {
   "cell_type": "code",
   "execution_count": null,
   "metadata": {},
   "outputs": [],
   "source": [
    "fine_tuning_acc"
   ]
  },
  {
   "cell_type": "code",
   "execution_count": null,
   "metadata": {},
   "outputs": [],
   "source": [
    "# For fine tuning model\n",
    "x = [0,10, 20, 30, 40,50,60] # Percentace of pruning\n",
    "plt.xticks(x)\n",
    "plt.plot(x, fine_tuning_acc)\n",
    "plt.title('Fine Tuning L1 pruning')\n",
    "plt.xlabel('Percentage of Pruning')\n",
    "plt.ylabel('Balanced Accuracy Validation')\n",
    "plt.savefig('./img/Unstructured Pruning/Local/CUB/FineTuning.jpg')"
   ]
  },
  {
   "cell_type": "markdown",
   "metadata": {},
   "source": [
    "Results of local (unstructured*) pruning feature extraction"
   ]
  },
  {
   "cell_type": "code",
   "execution_count": null,
   "metadata": {},
   "outputs": [],
   "source": [
    "feature_extraction_acc"
   ]
  },
  {
   "cell_type": "code",
   "execution_count": null,
   "metadata": {},
   "outputs": [],
   "source": [
    "# For fine tuning model\n",
    "x = [0,10, 20, 30, 40,50,60] # Percentace of pruning\n",
    "plt.xticks(x)\n",
    "plt.plot(x, feature_extraction_acc)\n",
    "plt.title('Feature Extraction L1 pruning')\n",
    "plt.xlabel('Percentage of Pruning')\n",
    "plt.ylabel('Balanced Accuracy Validation')\n",
    "plt.savefig('./img/Unstructured Pruning/Local/CUB/FeatureExtraction.jpg')"
   ]
  },
  {
   "cell_type": "markdown",
   "metadata": {},
   "source": [
    "## PET"
   ]
  },
  {
   "cell_type": "code",
   "execution_count": null,
   "metadata": {},
   "outputs": [],
   "source": [
    "fine_tuning_acc = [0.8371644201386387, 0.84279547519019, 0.8396754726961906, 0.8360724434543336, 0.8353427561676638, 0.8390089758082178, 0.8276282193367795]\n",
    "feature_extraction_acc = [0.8325995663570751, 0.835492617417044, 0.8288477456934874, 0.8283250337389769, 0.813864625102814, 0.7918565725650665, 0.7213287280051025]"
   ]
  },
  {
   "cell_type": "code",
   "execution_count": null,
   "metadata": {},
   "outputs": [],
   "source": [
    "\n",
    "# For fine tuning model\n",
    "x = [0,10, 20, 30, 40,50,60] # Percentace of pruning\n",
    "plt.xticks(x)\n",
    "plt.plot(x, fine_tuning_acc)\n",
    "plt.title('Fine Tuning L1 pruning')\n",
    "plt.xlabel('Percentage of Pruning')\n",
    "plt.ylabel('Balanced Accuracy Validation')\n",
    "plt.savefig('./img/Unstructured Pruning/Local/PET/FineTuning.jpg')"
   ]
  },
  {
   "cell_type": "code",
   "execution_count": null,
   "metadata": {},
   "outputs": [],
   "source": [
    "\n",
    "# For feature extraction model\n",
    "x = [0,10, 20, 30, 40,50,60] # Percentace of pruning\n",
    "plt.xticks(x)\n",
    "plt.plot(x, feature_extraction_acc)\n",
    "plt.title('Feature Extraction L1 pruning')\n",
    "plt.xlabel('Percentage of Pruning')\n",
    "plt.ylabel('Balanced Accuracy Validation')\n",
    "plt.savefig('./img/Unstructured Pruning/Local/PET/FeatureExtraction.jpg')"
   ]
  },
  {
   "cell_type": "markdown",
   "metadata": {},
   "source": [
    "## DTD"
   ]
  },
  {
   "cell_type": "code",
   "execution_count": null,
   "metadata": {},
   "outputs": [],
   "source": [
    "fine_tuning_acc = [0.6351063829787235,0.6303191489361704,0.6356382978723404,0.6319148936170212,0.6319148936170211,0.6281914893617021,0.6085106382978723]\n",
    "feature_extraction_acc = [0.5946808510638297,0.5882978723404255,0.5845744680851064,0.5797872340425534,0.5595744680851065,0.5186170212765959,0.4734042553191491]"
   ]
  },
  {
   "cell_type": "code",
   "execution_count": null,
   "metadata": {},
   "outputs": [],
   "source": [
    "\n",
    "# For fine tuning model\n",
    "x = [0,10, 20, 30, 40,50,60] # Percentace of pruning\n",
    "plt.xticks(x)\n",
    "plt.plot(x, fine_tuning_acc)\n",
    "plt.title('Fine Tuning L1 pruning')\n",
    "plt.xlabel('Percentage of Pruning')\n",
    "plt.ylabel('Balanced Accuracy Validation')\n",
    "plt.savefig('./img/Unstructured Pruning/Local/DTD/FineTuning.jpg')"
   ]
  },
  {
   "cell_type": "code",
   "execution_count": null,
   "metadata": {},
   "outputs": [],
   "source": [
    "\n",
    "# For feature extraction model\n",
    "x = [0,10, 20, 30, 40,50,60] # Percentace of pruning\n",
    "plt.xticks(x)\n",
    "plt.plot(x, feature_extraction_acc)\n",
    "plt.title('Feature Extraction L1 pruning')\n",
    "plt.xlabel('Percentage of Pruning')\n",
    "plt.ylabel('Balanced Accuracy Validation')\n",
    "plt.savefig('./img/Unstructured Pruning/Local/DTD/FeatureExtraction.jpg')"
   ]
  },
  {
   "cell_type": "markdown",
   "metadata": {},
   "source": [
    "# L1 Global Unstructured Pruning"
   ]
  },
  {
   "cell_type": "markdown",
   "metadata": {},
   "source": [
    "## Cub 200 (20% of pruning)"
   ]
  },
  {
   "cell_type": "code",
   "execution_count": null,
   "metadata": {},
   "outputs": [],
   "source": [
    "'''Val_bal_acc: [0.2903240395396357, 0.4195324155753418, 0.47801210934089894, 0.5070196842065381, 0.529563323597708, 0.5380845706930488, 0.568795567022881, 0.6172206004656097, 0.6198619534772574, 0.6247897056767493, 0.6238768053163419, 0.6290599857727809, 0.6322746501411182, 0.6227902909367243, 0.6336243114195457, 0.6385873539998845, 0.6401127283138844, 0.6331764956317549, 0.6366087926491739, 0.6388115588867384, 0.6348134445003577, 0.6388750177909224, 0.6482907165218182, 0.633128082887651, 0.6387043002581352]\n",
    "Val_acc: [tensor(0.2893, device='cuda:0', dtype=torch.float64), tensor(0.4175, device='cuda:0', dtype=torch.float64), tensor(0.4777, device='cuda:0', dtype=torch.float64), tensor(0.5043, device='cuda:0', dtype=torch.float64), tensor(0.5264, device='cuda:0', dtype=torch.float64), tensor(0.5361, device='cuda:0', dtype=torch.float64), tensor(0.5666, device='cuda:0', dtype=torch.float64), tensor(0.6158, device='cuda:0', dtype=torch.float64), tensor(0.6182, device='cuda:0', dtype=torch.float64), tensor(0.6231, device='cuda:0', dtype=torch.float64), tensor(0.6219, device='cuda:0', dtype=torch.float64), tensor(0.6267, device='cuda:0', dtype=torch.float64), tensor(0.6308, device='cuda:0', dtype=torch.float64), tensor(0.6203, device='cuda:0', dtype=torch.float64), tensor(0.6320, device='cuda:0', dtype=torch.float64), tensor(0.6369, device='cuda:0', dtype=torch.float64), tensor(0.6377, device='cuda:0', dtype=torch.float64), tensor(0.6317, device='cuda:0', dtype=torch.float64), tensor(0.6351, device='cuda:0', dtype=torch.float64), tensor(0.6370, device='cuda:0', dtype=torch.float64), tensor(0.6327, device='cuda:0', dtype=torch.float64), tensor(0.6365, device='cuda:0', dtype=torch.float64), tensor(0.6477, device='cuda:0', dtype=torch.float64), tensor(0.6319, device='cuda:0', dtype=torch.float64), tensor(0.6369, device='cuda:0', dtype=torch.float64)]\n",
    "Val_loss: [3.079491180265859, 2.3257908530026663, 2.04552351059196, 1.9173952362888798, 1.8662568199016543, 1.7953173799847255, 1.6713488383419892, 1.4954392488635653, 1.4980120699274686, 1.4880362793049229, 1.4677216711956886, 1.450662189870143, 1.4175865201650506, 1.4700304120316108, 1.4428554205265711, 1.413524307835274, 1.4087725092223236, 1.4391412788067846, 1.4349550507502347, 1.4230562639228221, 1.4182413380154566, 1.429201241787012, 1.4083316473455565, 1.44113532847522, 1.4198158884111447]\n",
    "Training:\n",
    "Train_bal_acc: [0.08920114942528733, 0.292971264367816, 0.40716091954022976, 0.47288505747126414, 0.5344425287356321, 0.5511436781609195, 0.579218390804598, 0.6559597701149427, 0.6790114942528738, 0.6829540229885057, 0.6953275862068965, 0.7028448275862073, 0.698344827586207, 0.7002183908045978, 0.7200517241379305, 0.7270287356321845, 0.7216436781609198, 0.7144942528735636, 0.7186896551724135, 0.7123390804597703, 0.7068620689655174, 0.7203218390804603, 0.7217183908045979, 0.7236494252873571, 0.7153505747126442]\n",
    "Train_acc: [tensor(0.0893, device='cuda:0', dtype=torch.float64), tensor(0.2930, device='cuda:0', dtype=torch.float64), tensor(0.4072, device='cuda:0', dtype=torch.float64), tensor(0.4730, device='cuda:0', dtype=torch.float64), tensor(0.5345, device='cuda:0', dtype=torch.float64), tensor(0.5512, device='cuda:0', dtype=torch.float64), tensor(0.5792, device='cuda:0', dtype=torch.float64), tensor(0.6560, device='cuda:0', dtype=torch.float64), tensor(0.6790, device='cuda:0', dtype=torch.float64), tensor(0.6830, device='cuda:0', dtype=torch.float64), tensor(0.6954, device='cuda:0', dtype=torch.float64), tensor(0.7029, device='cuda:0', dtype=torch.float64), tensor(0.6984, device='cuda:0', dtype=torch.float64), tensor(0.7002, device='cuda:0', dtype=torch.float64), tensor(0.7201, device='cuda:0', dtype=torch.float64), tensor(0.7271, device='cuda:0', dtype=torch.float64), tensor(0.7217, device='cuda:0', dtype=torch.float64), tensor(0.7145, device='cuda:0', dtype=torch.float64), tensor(0.7187, device='cuda:0', dtype=torch.float64), tensor(0.7124, device='cuda:0', dtype=torch.float64), tensor(0.7069, device='cuda:0', dtype=torch.float64), tensor(0.7204, device='cuda:0', dtype=torch.float64), tensor(0.7217, device='cuda:0', dtype=torch.float64), tensor(0.7237, device='cuda:0', dtype=torch.float64), tensor(0.7154, device='cuda:0', dtype=torch.float64)]\n",
    "Train_loss: [4.525692060385937, 2.915899804165891, 2.3495165879303985, 2.001337050277868, 1.8121824048143806, 1.6958501844912082, 1.5701138869022424, 1.2870629211644709, 1.1858885236728338, 1.1618765984768464, 1.154292205671171, 1.1056369470682867, 1.1202000544633632, 1.1179845652900062, 1.0889292086089577, 1.02368955855613, 1.032594479319649, 1.075419251923566, 1.0557048220931986, 1.0722823804483679, 1.0727058557180074, 1.0286534501585836, 1.04994677443245, 1.0385991586101901, 1.0572259039094458]\n",
    "'''\n"
   ]
  },
  {
   "cell_type": "code",
   "execution_count": null,
   "metadata": {},
   "outputs": [],
   "source": [
    "val_bal_acc_local = [0.282384353073535, 0.4229866308002502, 0.477524390031413, 0.5057414816034915, 0.5306505302769806, 0.5487542926028093, 0.5571398339613047, 0.6078058982000434, 0.6152354169031358, 0.6159602748356788, 0.6328076470057847, 0.6238608702159956, 0.6314755376290334, 0.620811436139634, 0.6297475816346052, 0.6366280129896082, 0.6265256166791321, 0.6337915211755465, 0.6286841971881428, 0.6332115243219358, 0.6274557960268922, 0.6353360096961063, 0.6227970278141508, 0.6340865793143474, 0.6412218419390362]\n",
    "val_bal_acc_global = [0.2903240395396357, 0.4195324155753418, 0.47801210934089894, 0.5070196842065381, 0.529563323597708, 0.5380845706930488, 0.568795567022881, 0.6172206004656097, 0.6198619534772574, 0.6247897056767493, 0.6238768053163419, 0.6290599857727809, 0.6322746501411182, 0.6227902909367243, 0.6336243114195457, 0.6385873539998845, 0.6401127283138844, 0.6331764956317549, 0.6366087926491739, 0.6388115588867384, 0.6348134445003577, 0.6388750177909224, 0.6482907165218182, 0.633128082887651, 0.6387043002581352]\n",
    "# Compare the two \n",
    "plt.plot(val_bal_acc_local, label='local')\n",
    "plt.plot(val_bal_acc_global, label='global')\n",
    "plt.title('Local vs Global Pruning')\n",
    "plt.xlabel('Epochs')\n",
    "plt.ylabel('Balanced Accuracy Validation')\n",
    "plt.legend()\n",
    "plt.savefig('./img/Unstructured Pruning/Global/CUB/FineTuning.jpg')\n"
   ]
  },
  {
   "cell_type": "code",
   "execution_count": null,
   "metadata": {},
   "outputs": [],
   "source": [
    "print(max(val_bal_acc_local))\n",
    "print(max(val_bal_acc_global))"
   ]
  },
  {
   "cell_type": "code",
   "execution_count": null,
   "metadata": {},
   "outputs": [],
   "source": [
    "#Plot percentage of pruning for each layer\n",
    "'''features.0.weight_mask tensor(0.0041)\n",
    "features.2.weight_mask tensor(0.0300)\n",
    "features.5.weight_mask tensor(0.0309)\n",
    "features.7.weight_mask tensor(0.0352)\n",
    "features.10.weight_mask tensor(0.0408)\n",
    "features.12.weight_mask tensor(0.0501)\n",
    "features.14.weight_mask tensor(0.0488)\n",
    "features.17.weight_mask tensor(0.0581)\n",
    "features.19.weight_mask tensor(0.0725)\n",
    "features.21.weight_mask tensor(0.0725)\n",
    "features.24.weight_mask tensor(0.0680)\n",
    "features.26.weight_mask tensor(0.0677)\n",
    "features.28.weight_mask tensor(0.0760)\n",
    "classifier.0.weight_mask tensor(0.2337)\n",
    "classifier.3.weight_mask tensor(0.1156)\n",
    "classifier.6.weight_mask tensor(0.0901)'''\n",
    "\n",
    "perc = [0.004050925925925926, 0.030029296875, 0.0308837890625, 0.03519015842013889, 0.040825737847222224, 0.05006239149305555, 0.048790825737847224, 0.05806308322482639, 0.07250934176974827, 0.07254113091362847, 0.06800079345703125, 0.06768756442599827, 0.07603285047743055, 0.23365427523243185, 0.11562973260879517, 0.090274658203125]\n",
    "layer = ['features.0', 'features.2', 'features.5', 'features.7', 'features.10', 'features.12', 'features.14', 'features.17', 'features.19', 'features.21', 'features.24', 'features.26', 'features.28', 'classifier.0', 'classifier.3', 'classifier.6']\n",
    "plt.bar(layer, perc)\n",
    "plt.xticks(rotation=90)\n",
    "plt.title('Pruning in each module')\n",
    "#prevent the image from being cut off \n",
    "plt.tight_layout()\n",
    "plt.savefig('./img/Unstructured Pruning/Global/layers.jpg')\n"
   ]
  },
  {
   "cell_type": "markdown",
   "metadata": {},
   "source": [
    "## Pet 10% of pruning  "
   ]
  },
  {
   "cell_type": "code",
   "execution_count": null,
   "metadata": {},
   "outputs": [],
   "source": [
    "val_bal_acc_local = [0.282384353073535, 0.4229866308002502, 0.477524390031413, 0.5057414816034915, 0.5306505302769806, 0.5487542926028093, 0.5571398339613047, 0.6078058982000434, 0.6152354169031358, 0.6159602748356788, 0.6328076470057847, 0.6238608702159956, 0.6314755376290334, 0.620811436139634, 0.6297475816346052, 0.6366280129896082, 0.6265256166791321, 0.6337915211755465, 0.6286841971881428, 0.6332115243219358, 0.6274557960268922, 0.6353360096961063, 0.6227970278141508, 0.6340865793143474, 0.6412218419390362]\n",
    "val_bal_acc_global = [0.2903240395396357, 0.4195324155753418, 0.47801210934089894, 0.5070196842065381, 0.529563323597708, 0.5380845706930488, 0.568795567022881, 0.6172206004656097, 0.6198619534772574, 0.6247897056767493, 0.6238768053163419, 0.6290599857727809, 0.6322746501411182, 0.6227902909367243, 0.6336243114195457, 0.6385873539998845, 0.6401127283138844, 0.6331764956317549, 0.6366087926491739, 0.6388115588867384, 0.6348134445003577, 0.6388750177909224, 0.6482907165218182, 0.633128082887651, 0.6387043002581352]\n",
    "# Compare the two \n",
    "plt.plot(val_bal_acc_local, label='local')\n",
    "plt.plot(val_bal_acc_global, label='global')\n",
    "plt.title('Local vs Global Pruning')\n",
    "plt.xlabel('Epochs')\n",
    "plt.ylabel('Balanced Accuracy Validation')\n",
    "plt.legend()\n",
    "plt.savefig('./img/Unstructured Pruning/Global/PET/FineTuning.jpg')"
   ]
  },
  {
   "cell_type": "code",
   "execution_count": null,
   "metadata": {},
   "outputs": [],
   "source": []
  },
  {
   "cell_type": "code",
   "execution_count": null,
   "metadata": {},
   "outputs": [],
   "source": [
    "val_bal_acc_local = [0.7668211939840738, 0.7783344043807217, 0.7894469517350157, 0.7871534898051089, 0.8002212362771512, 0.8024376562117953, 0.8061389508860177, 0.8236805920239092, 0.84279547519019, 0.8288535798975807, 0.8189778541727045, 0.8313222648349489, 0.8257961594782101, 0.8344108637012942, 0.8368005322466611, 0.8317408009967292, 0.8398777639707792, 0.8346109290353138, 0.8316214907642321, 0.8343346625937514, 0.8342906255697704, 0.8399575520706228, 0.8397946034269279, 0.8369791995304563, 0.825059027434464]\n",
    "val_bal_acc_global = [0.7374004843976383, 0.8015173403052966, 0.7807044657179522, 0.7960488363785512, 0.7642183405905671, 0.7521985919520298, 0.8192209413202779, 0.8253188165289571, 0.8092885696247382, 0.8184864712158653, 0.8288326313084302, 0.8227139237924266, 0.8303366241503125, 0.8380273586018984, 0.837530853355761, 0.8339033290613606, 0.8354598677198006, 0.8320407081666205, 0.8220135597871364, 0.822795674256183, 0.8373252013989385, 0.8283824677258511, 0.8334155850486875, 0.8354007654423833, 0.8358626562742829]\n",
    "# Compare the two \n",
    "plt.plot(val_bal_acc_local, label='local')\n",
    "plt.plot(val_bal_acc_global, label='global')\n",
    "plt.title('Local vs Global Pruning')\n",
    "plt.xlabel('Epochs')\n",
    "plt.ylabel('Balanced Accuracy Validation')\n",
    "plt.legend()\n",
    "plt.savefig('./img/Unstructured Pruning/Global/PET/FineTuning.jpg')"
   ]
  },
  {
   "cell_type": "code",
   "execution_count": null,
   "metadata": {},
   "outputs": [],
   "source": [
    "print(max(val_bal_acc_local))\n",
    "print(max(val_bal_acc_global))"
   ]
  },
  {
   "cell_type": "code",
   "execution_count": null,
   "metadata": {},
   "outputs": [],
   "source": [
    "val_bal_acc_global = [0.1397559868859773, 0.14333586763879372, 0.14480579163329946, 0.14402523783878304, 0.14938005264098206, 0.14942520387639696, 0.14636437945589167, 0.1520891143389108, 0.15093916847982064, 0.15266880606178568, 0.15239876501966404, 0.15416928852860534, 0.15407922042701294, 0.15257479483595504, 0.1546776276536681, 0.1534866035919754, 0.15424059437052975, 0.15316570392686418, 0.1545306711304651, 0.15413739527458403, 0.15556516083313793, 0.15619697640981212, 0.15428538830304192, 0.15487026967872894, 0.15439874318755445]\n",
    "max_acc_local = 0.84279547519019\n",
    "max_acc_global = max(val_bal_acc_global)\n",
    "print(max_acc_global)\n",
    "print(max_acc_local)\n",
    "#Validation balanced accuracy\n",
    "\n"
   ]
  },
  {
   "cell_type": "markdown",
   "metadata": {},
   "source": [
    "## DTD 10% of pruning"
   ]
  },
  {
   "cell_type": "code",
   "execution_count": null,
   "metadata": {},
   "outputs": [],
   "source": [
    "'''max_acc_local = 0.6356382978723404\n",
    "val_bal_acc_global =[0.10300000000000001, 0.124125, 0.1315, 0.13175000000000003, 0.13500000000000004, 0.13675000000000004, 0.13762500000000003, 0.14412499999999998, 0.14699999999999996, 0.14262499999999997, 0.146625, 0.1485, 0.14675, 0.14725000000000002, 0.149125, 0.14437499999999995, 0.14649999999999994, 0.14750000000000002, 0.14587499999999998, 0.146375, 0.14637500000000003, 0.14675000000000002, 0.14524999999999996, 0.14850000000000002, 0.14550000000000002]\n",
    "max_acc_global = max(val_bal_acc_global)\n",
    "print(max_acc_global)\n",
    "print(max_acc_local)\n",
    "'''"
   ]
  },
  {
   "cell_type": "code",
   "execution_count": null,
   "metadata": {},
   "outputs": [],
   "source": [
    "val_bal_acc_local = [0.4515957446808511, 0.5335106382978722, 0.5526595744680851, 0.5537234042553191, 0.5718085106382979, 0.5670212765957447, 0.549468085106383, 0.599468085106383, 0.6085106382978723, 0.6191489361702128, 0.623936170212766, 0.6138297872340425, 0.6170212765957447, 0.6356382978723404, 0.6265957446808509, 0.6170212765957448, 0.6148936170212769, 0.625531914893617, 0.6202127659574467, 0.624468085106383, 0.6196808510638296, 0.6196808510638298, 0.6292553191489358, 0.6069148936170212, 0.6223404255319152]\n",
    "val_bal_acc_global = [0.47340425531914904, 0.5345744680851063, 0.5601063829787235, 0.5643617021276597, 0.5659574468085106, 0.5792553191489362, 0.5930851063829788, 0.5973404255319147, 0.6143617021276596, 0.6271276595744683, 0.6085106382978721, 0.6186170212765955, 0.6244680851063829, 0.6218085106382979, 0.6308510638297873, 0.623936170212766, 0.621808510638298, 0.6196808510638298, 0.6180851063829788, 0.626595744680851, 0.6207446808510639, 0.6212765957446807, 0.6175531914893618, 0.6122340425531916, 0.6180851063829789]\n",
    "# Compare the two \n",
    "plt.plot(val_bal_acc_local, label='local')\n",
    "plt.plot(val_bal_acc_global, label='global')\n",
    "plt.title('Local vs Global Pruning')\n",
    "plt.xlabel('Epochs')\n",
    "plt.ylabel('Balanced Accuracy Validation')\n",
    "plt.legend()\n",
    "plt.savefig('./img/Unstructured Pruning/Global/DTD/FineTuning.jpg')"
   ]
  },
  {
   "cell_type": "code",
   "execution_count": null,
   "metadata": {},
   "outputs": [],
   "source": [
    "print(max(val_bal_acc_local))\n",
    "print(max(val_bal_acc_global))"
   ]
  },
  {
   "cell_type": "markdown",
   "metadata": {},
   "source": [
    "El modelo pre entrenado es el mismo por lo que se le aplicarán las mismas podas "
   ]
  },
  {
   "cell_type": "markdown",
   "metadata": {},
   "source": [
    "# Structured pruning"
   ]
  },
  {
   "cell_type": "markdown",
   "metadata": {},
   "source": [
    "## L1"
   ]
  },
  {
   "cell_type": "markdown",
   "metadata": {},
   "source": [
    "### CUB"
   ]
  },
  {
   "cell_type": "code",
   "execution_count": null,
   "metadata": {},
   "outputs": [],
   "source": [
    "fine_tuning_acc = [0.6160551467289413]\n",
    "feature_extraction_acc = [0.4853316226421843]"
   ]
  },
  {
   "cell_type": "code",
   "execution_count": null,
   "metadata": {},
   "outputs": [],
   "source": [
    "aux = [0.005833333333333334, 0.005850574712643679, 0.005588305053822296, 0.0071522988505747145, 0.006870943287754621, 0.006719211822660098, 0.007632051037973078, 0.010077882761915749, 0.010751307038788299, 0.008294255649952802, 0.008707899809493751, 0.007614817591204398, 0.009734254763884686, 0.009875702258760732, 0.009157846900725464, 0.009913890220881462, 0.007373670307703294, 0.008929267509102591, 0.009479992146783751, 0.009766116941529238, 0.009654216486320175, 0.009931973573652737, 0.008509905761405014, 0.007993275340351802, 0.010446088407502436]\n",
    "max(aux)"
   ]
  },
  {
   "cell_type": "code",
   "execution_count": null,
   "metadata": {},
   "outputs": [],
   "source": [
    "fine_tuning_acc = [0.6405608736649137,0.6304647187903325,0.5217208345850737, 0.2868650761294374, 0.039976176580374466]\n",
    "feature_extr_acc = [0.5141874939460357,0.31635076074271606,0.09577635878490065, 0.032021473472767556, 0.010751307038788299]\n",
    "\n",
    "x = [0,10,20,30,40] # Percentage of pruning\n",
    "plt.xticks(x)\n",
    "plt.plot(x, fine_tuning_acc)\n",
    "plt.title('Fine Tuning L1 pruning')\n",
    "plt.xlabel('Percentage of Pruning')\n",
    "plt.ylabel('Balanced Accuracy Validation')\n",
    "plt.savefig('./img/Structured Pruning/Local/L1/CUB/FineTuning.jpg')"
   ]
  },
  {
   "cell_type": "code",
   "execution_count": null,
   "metadata": {},
   "outputs": [],
   "source": [
    "x = [0,10, 20,30,40] # Percentage of pruning\n",
    "plt.xticks(x)\n",
    "plt.plot(x, feature_extr_acc)\n",
    "plt.title('Feature Extraction L1 pruning')\n",
    "plt.xlabel('Percentage of Pruning')\n",
    "plt.ylabel('Balanced Accuracy Validation')\n",
    "plt.savefig('./img/Structured Pruning/Local/L1/CUB/FeatureExtraction.jpg')"
   ]
  },
  {
   "cell_type": "markdown",
   "metadata": {},
   "source": [
    "### PET"
   ]
  },
  {
   "cell_type": "code",
   "execution_count": null,
   "metadata": {},
   "outputs": [],
   "source": [
    "aux = [0.03831945326327349, 0.048283012327956155, 0.04108021656978319, 0.06373739314349267, 0.056741709502544174, 0.06281884895047012, 0.06927956348502094, 0.07186227439838996, 0.06758567347652418, 0.07133580204206207, 0.0726285350201883, 0.06943828300168588, 0.07440057472160198, 0.07593847521616381, 0.07895599837814926, 0.07527236832212755, 0.07199329762732651, 0.07153642249950436, 0.07110155453654651, 0.07186804114572971, 0.07440614615574487, 0.07799507622942613, 0.07400752381490742, 0.07590214570952934, 0.07957158989261717]\n",
    "max(aux)"
   ]
  },
  {
   "cell_type": "code",
   "execution_count": null,
   "metadata": {},
   "outputs": [],
   "source": [
    "fine_tuning_acc = [0.8474535132406923,0.8281747144225841, 0.7985914703682073, 0.7177091628783642, 0.458506068701581]\n",
    "feature_extr_acc = [0.8338913645469057,0.7352886702041938, 0.41451966187730954,0.1909988515791829, 0.07957158989261717]\n",
    "\n",
    "x = [0,10, 20,30, 40] # Percentage of pruning\n",
    "plt.xticks(x)\n",
    "plt.plot(x, fine_tuning_acc)\n",
    "plt.title('Fine Tuning L1 pruning')\n",
    "plt.xlabel('Percentage of Pruning')\n",
    "plt.ylabel('Balanced Accuracy Validation')\n",
    "plt.savefig('./img/Structured Pruning/Local/L1/PET/FineTuning.jpg')"
   ]
  },
  {
   "cell_type": "code",
   "execution_count": null,
   "metadata": {},
   "outputs": [],
   "source": [
    "x = [0,10, 20,30,40] # Percentage of pruning\n",
    "plt.xticks(x)\n",
    "plt.plot(x, feature_extr_acc)\n",
    "plt.title('Feature Extraction L1 pruning')\n",
    "plt.xlabel('Percentage of Pruning')\n",
    "plt.ylabel('Balanced Accuracy Validation')\n",
    "plt.savefig('./img/Structured Pruning/Local/L1/PET/FeatureExtraction.jpg')"
   ]
  },
  {
   "cell_type": "markdown",
   "metadata": {},
   "source": [
    "### DTD"
   ]
  },
  {
   "cell_type": "code",
   "execution_count": null,
   "metadata": {},
   "outputs": [],
   "source": [
    "aux = [0.04574468085106382, 0.0606382978723404, 0.07712765957446809, 0.08457446808510637, 0.09574468085106387, 0.10638297872340426, 0.11436170212765957, 0.10851063829787236, 0.10638297872340424, 0.11329787234042553, 0.10851063829787236, 0.1074468085106383, 0.11010638297872342, 0.1122340425531915, 0.11010638297872342, 0.11010638297872338, 0.1170212765957447, 0.11861702127659576, 0.12340425531914895, 0.11861702127659575, 0.11329787234042553, 0.11861702127659575, 0.11170212765957445, 0.11595744680851064, 0.11170212765957449]\n",
    "max(aux)"
   ]
  },
  {
   "cell_type": "code",
   "execution_count": null,
   "metadata": {},
   "outputs": [],
   "source": [
    "fine_tuning_acc = [0.626595744680851, 0.6132978723404254, 0.5728723404255318,0.5053191489361702,0.3978723404255318]\n",
    "feature_extr_acc = [0.5909574468085107, 0.48936170212765956,0.33031914893617026,0.20159574468085106, 0.12340425531914895]\n",
    "\n",
    "x = [0,10, 20,30,40] # Percentage of pruning\n",
    "plt.xticks(x)\n",
    "plt.plot(x, fine_tuning_acc)\n",
    "plt.title('Fine Tuning L1 pruning')\n",
    "plt.xlabel('Percentage of Pruning')\n",
    "plt.ylabel('Balanced Accuracy Validation')\n",
    "plt.savefig('./img/Structured Pruning/Local/L1/DTD/FineTuning.jpg')"
   ]
  },
  {
   "cell_type": "code",
   "execution_count": null,
   "metadata": {},
   "outputs": [],
   "source": [
    "x = [0,10, 20,30,40] # Percentage of pruning\n",
    "plt.xticks(x)\n",
    "plt.plot(x, feature_extr_acc)\n",
    "plt.title('Feature Extraction L1 pruning')\n",
    "plt.xlabel('Percentage of Pruning')\n",
    "plt.ylabel('Balanced Accuracy Validation')\n",
    "plt.savefig('./img/Structured Pruning/Local/L1/DTD/FeatureExtraction.jpg')"
   ]
  },
  {
   "cell_type": "markdown",
   "metadata": {},
   "source": [
    "## L2"
   ]
  },
  {
   "cell_type": "markdown",
   "metadata": {},
   "source": [
    "### CUB"
   ]
  },
  {
   "cell_type": "code",
   "execution_count": null,
   "metadata": {},
   "outputs": [],
   "source": [
    "fine_tuning_acc = [0.6160551467289413]\n",
    "feature_extraction_acc = [0.4853316226421843]"
   ]
  },
  {
   "cell_type": "code",
   "execution_count": null,
   "metadata": {},
   "outputs": [],
   "source": [
    "acc = [0.006333333333333333, 0.008653993516062483, 0.006547261167950823, 0.007397435897435899, 0.009430908172287483, 0.009364974106353419, 0.011178806506392715, 0.013208149684556221, 0.011925430890948132, 0.012492245940521807, 0.013267255094841304, 0.013428206531654807, 0.013361023534186958, 0.014367714799498908, 0.011702676134460244, 0.01231763237872683, 0.014083648790545347, 0.013660540608816479, 0.01489755072513693, 0.012266465973362527, 0.015239169015780714, 0.013602848301124166, 0.01575975379498618, 0.014118089445675655, 0.011110616076133319]\n",
    "max(acc)"
   ]
  },
  {
   "cell_type": "code",
   "execution_count": null,
   "metadata": {},
   "outputs": [],
   "source": [
    "fine_tuning_acc = [0.6160551467289413, 0.6269328078408407, 0.5159200360305269,0.353895960965834,0.043520512471037186]\n",
    "feature_extr_acc = [0.4853316226421843, 0.3259843426772925, 0.09177694082091226,0.03981081104323428,0.01575975379498618]\n",
    "\n",
    "x = [0,10,20,30,40] # Percentage of pruning\n",
    "plt.xticks(x)\n",
    "plt.plot(x, fine_tuning_acc)\n",
    "plt.title('Fine Tuning L2 pruning')\n",
    "plt.xlabel('Percentage of Pruning')\n",
    "plt.ylabel('Balanced Accuracy Validation')\n",
    "plt.savefig('./img/Structured Pruning/Local/L2/CUB/FineTuning.jpg')"
   ]
  },
  {
   "cell_type": "code",
   "execution_count": null,
   "metadata": {},
   "outputs": [],
   "source": [
    "x = [0,10, 20,30,40] # Percentage of pruning\n",
    "plt.xticks(x)\n",
    "plt.plot(x, feature_extr_acc)\n",
    "plt.title('Feature Extraction L2 pruning')\n",
    "plt.xlabel('Percentage of Pruning')\n",
    "plt.ylabel('Balanced Accuracy Validation')\n",
    "plt.savefig('./img/Structured Pruning/Local/L2/CUB/FeatureExtraction.jpg')"
   ]
  },
  {
   "cell_type": "markdown",
   "metadata": {},
   "source": [
    "### PET"
   ]
  },
  {
   "cell_type": "code",
   "execution_count": null,
   "metadata": {},
   "outputs": [],
   "source": [
    "aux = [0.03765532641937137, 0.0345945945945946, 0.03881566960218646, 0.0564569472434641, 0.06719446208210253, 0.06982087807930505, 0.07715503041345737, 0.07842533492613747, 0.0770902869056962, 0.07925512335624695, 0.07499631909744267, 0.08948853858966219, 0.07836988162830859, 0.0746966629550899, 0.07957638946402991, 0.07889339799452155, 0.08994960230915286, 0.08697189017413735, 0.07508561165864537, 0.08256718414021784, 0.08399230127962067, 0.08244304570147266, 0.0786635660070652, 0.08346620828161758, 0.07799120877772563]\n",
    "max(aux)"
   ]
  },
  {
   "cell_type": "code",
   "execution_count": null,
   "metadata": {},
   "outputs": [],
   "source": [
    "fine_tuning_acc = [0.8474535132406923, 0.8255722294613758,0.7980881903601205,0.7476608812321445, 0.45299009990873434]\n",
    "feature_extr_acc = [0.8338913645469057,0.7382473004805914,0.37005984229139566, 0.1963870096528004,0.08994960230915286]\n",
    "\n",
    "x = [0,10,20,30,40] # Percentage of pruning\n",
    "plt.xticks(x)\n",
    "plt.plot(x, fine_tuning_acc)\n",
    "plt.title('Fine Tuning L2 pruning')\n",
    "plt.xlabel('Percentage of Pruning')\n",
    "plt.ylabel('Balanced Accuracy Validation')\n",
    "plt.savefig('./img/Structured Pruning/Local/L2/PET/FineTuning.jpg')"
   ]
  },
  {
   "cell_type": "code",
   "execution_count": null,
   "metadata": {},
   "outputs": [],
   "source": [
    "x = [0,10, 20,30,40] # Percentage of pruning\n",
    "plt.xticks(x)\n",
    "plt.plot(x, feature_extr_acc)\n",
    "plt.title('Feature Extraction L2 pruning')\n",
    "plt.xlabel('Percentage of Pruning')\n",
    "plt.ylabel('Balanced Accuracy Validation')\n",
    "plt.savefig('./img/Structured Pruning/Local/L2/PET/FeatureExtraction.jpg')"
   ]
  },
  {
   "cell_type": "markdown",
   "metadata": {},
   "source": [
    "### DTD"
   ]
  },
  {
   "cell_type": "code",
   "execution_count": null,
   "metadata": {},
   "outputs": [],
   "source": [
    "aux = [0.037234042553191495, 0.057446808510638304, 0.08085106382978723, 0.08404255319148937, 0.0973404255319149, 0.10904255319148938, 0.12021276595744683, 0.11436170212765957, 0.11489361702127664, 0.12925531914893618, 0.13031914893617025, 0.12127659574468086, 0.12340425531914893, 0.13670212765957448, 0.12500000000000003, 0.11914893617021277, 0.11968085106382981, 0.12393617021276594, 0.125, 0.1367021276595745, 0.125, 0.12180851063829787, 0.12553191489361704, 0.13138297872340426, 0.11808510638297876]\n",
    "max(aux)"
   ]
  },
  {
   "cell_type": "code",
   "execution_count": null,
   "metadata": {},
   "outputs": [],
   "source": [
    "fine_tuning_acc = [0.626595744680851,0.6180851063829789, 0.5670212765957447,0.49255319148936166,0.39042553191489365]\n",
    "feature_extr_acc = [0.5909574468085107,0.4808510638297873,0.35,0.23723404255319147,0.1367021276595745]\n",
    "\n",
    "x = [0,10,20,30,40] # Percentage of pruning\n",
    "plt.xticks(x)\n",
    "plt.plot(x, fine_tuning_acc)\n",
    "plt.title('Fine Tuning L2 pruning')\n",
    "plt.xlabel('Percentage of Pruning')\n",
    "plt.ylabel('Balanced Accuracy Validation')\n",
    "plt.savefig('./img/Structured Pruning/Local/L2/DTD/FineTuning.jpg')"
   ]
  },
  {
   "cell_type": "code",
   "execution_count": null,
   "metadata": {},
   "outputs": [],
   "source": [
    "x = [0,10, 20,30,40] # Percentage of pruning\n",
    "plt.xticks(x)\n",
    "plt.plot(x, feature_extr_acc)\n",
    "plt.title('Feature Extraction L2 pruning')\n",
    "plt.xlabel('Percentage of Pruning')\n",
    "plt.ylabel('Balanced Accuracy Validation')\n",
    "plt.savefig('./img/Structured Pruning/Local/L2/DTD/FeatureExtraction.jpg')"
   ]
  },
  {
   "attachments": {},
   "cell_type": "markdown",
   "metadata": {},
   "source": [
    "# Lottery ticket pruning"
   ]
  },
  {
   "attachments": {},
   "cell_type": "markdown",
   "metadata": {},
   "source": [
    "## L1"
   ]
  },
  {
   "attachments": {},
   "cell_type": "markdown",
   "metadata": {},
   "source": [
    "### CUB"
   ]
  },
  {
   "cell_type": "code",
   "execution_count": null,
   "metadata": {},
   "outputs": [],
   "source": [
    "best_acc = []"
   ]
  },
  {
   "cell_type": "code",
   "execution_count": null,
   "metadata": {},
   "outputs": [],
   "source": [
    "#0 % of pruning\n",
    "acc = [0.3120884730313043, 0.43449758129301264, 0.47933995316124645, 0.5149855608348269, 0.5346977789899356, 0.534647919287606, 0.5637870728940524, 0.6091599340620684, 0.6249613181138077, 0.6211803978984797]\n",
    "loss = [2.9189896077421724, 2.268875723754203, 2.0402833275602403, 1.9088024326880142, 1.8294470289147924, 1.8174658995231021, 1.7025566191448191, 1.5524256803843741, 1.4793096777896533, 1.5093735324789173]\n",
    "\n",
    "#Plotting the accuracy\n",
    "plt.plot(acc)\n",
    "plt.title('0% of pruning')\n",
    "plt.xlabel('Epochs')\n",
    "plt.ylabel('Balanced Accuracy')\n",
    "plt.savefig('./img/Structured Pruning/Local/Lottery Ticket/L1/CUB/0_of_pruning.jpg')\n",
    "\n",
    "best_acc.append(max(acc))\n",
    "\n"
   ]
  },
  {
   "cell_type": "code",
   "execution_count": null,
   "metadata": {},
   "outputs": [],
   "source": [
    "#Plotting the loss \n",
    "plt.plot(loss, color='orange')\n",
    "plt.title('0% of pruning')\n",
    "plt.xlabel('Epochs')\n",
    "plt.ylabel('Loss')\n",
    "#yellow line\n",
    "\n",
    "plt.savefig('./img/Structured Pruning/Local/Lottery Ticket/L1/CUB/0_of_pruning_loss.jpg')\n"
   ]
  },
  {
   "cell_type": "code",
   "execution_count": null,
   "metadata": {},
   "outputs": [],
   "source": [
    "# 13% of pruning\n",
    "acc = [0.12225307568756244, 0.3318680680333604, 0.3647275389389334, 0.4628154766324304, 0.49543237861355144, 0.5076499999732854, 0.5444711909874264, 0.5969898677378161, 0.6017120406714231, 0.6041604683035677]\n",
    "loss = [4.235627979585373, 2.7767508129518856, 2.542425296616875, 2.1293804620025814, 1.995445688915769, 1.9477208782917144, 1.8115773624202065, 1.6233008817265187, 1.5531218917689984, 1.5612110244370625]\n",
    "\n",
    "plt.plot(acc)\n",
    "plt.title('13% of pruning')\n",
    "plt.xlabel('Epochs')\n",
    "plt.ylabel('Balanced Accuracy')\n",
    "plt.savefig('./img/Structured Pruning/Local/Lottery Ticket/L1/CUB/13_of_pruning.jpg')\n",
    "\n",
    "best_acc.append(max(acc))"
   ]
  },
  {
   "cell_type": "code",
   "execution_count": null,
   "metadata": {},
   "outputs": [],
   "source": [
    "#Plotting the loss \n",
    "plt.plot(loss, color='orange')\n",
    "plt.title('13% of pruning')\n",
    "plt.xlabel('Epochs')\n",
    "plt.ylabel('Loss')\n",
    "plt.savefig('./img/Structured Pruning/Local/Lottery Ticket/L1/CUB/13_of_pruning_loss.jpg')\n"
   ]
  },
  {
   "cell_type": "code",
   "execution_count": null,
   "metadata": {},
   "outputs": [],
   "source": [
    "# 24% of pruning\n",
    "acc =  [0.12051647267164523, 0.3339682626810578, 0.4225346688397859, 0.46212088891977254, 0.46912796053834094, 0.5275809575093682, 0.5098367476144442, 0.5843380192224783, 0.5892281446441081, 0.5978680613540552]\n",
    "loss = [4.208267687928236, 2.8223352288228707, 2.3840591131426936, 2.1964305100623682, 2.1111028384536885, 1.869346455043046, 1.9206560534528918, 1.6285728107125832, 1.5920915902554629, 1.5846490292126119]\n",
    "\n",
    "plt.plot(acc)\n",
    "plt.title('24% of pruning')\n",
    "plt.xlabel('Epochs')\n",
    "plt.ylabel('Balanced Accuracy')\n",
    "plt.savefig('./img/Structured Pruning/Local/Lottery Ticket/L1/CUB/24_of_pruning.jpg')\n",
    "\n",
    "best_acc.append(max(acc))"
   ]
  },
  {
   "cell_type": "code",
   "execution_count": null,
   "metadata": {},
   "outputs": [],
   "source": [
    "#Plotting the loss\n",
    "plt.plot(loss, color='orange')\n",
    "plt.title('24% of pruning')\n",
    "plt.xlabel('Epochs')\n",
    "plt.ylabel('Loss')\n",
    "plt.savefig('./img/Structured Pruning/Local/Lottery Ticket/L1/CUB/24_of_pruning_loss.jpg')\n",
    "\n"
   ]
  },
  {
   "cell_type": "code",
   "execution_count": null,
   "metadata": {},
   "outputs": [],
   "source": [
    "# 34% of pruning\n",
    "acc = [0.10106963991174524, 0.3028143286116142, 0.38949912697444844, 0.45043916893271807, 0.48916470958426284, 0.5201870188964207, 0.5281634631650418, 0.5954032791325856, 0.5940309772036475, 0.5982878321254399]\n",
    "loss = [4.297062338571282, 2.879100078955411, 2.4217831908236875, 2.1780964614894827, 1.9959812148669938, 1.909059244227648, 1.853306548304092, 1.6209096015348368, 1.5669967284748214, 1.5887729804763557]\n",
    "\n",
    "plt.plot(acc)\n",
    "plt.title('34% of pruning')\n",
    "plt.xlabel('Epochs')\n",
    "plt.ylabel('Balanced Accuracy')\n",
    "plt.savefig('./img/Structured Pruning/Local/Lottery Ticket/L1/CUB/34_of_pruning.jpg')\n",
    "\n",
    "best_acc.append(max(acc))"
   ]
  },
  {
   "cell_type": "code",
   "execution_count": null,
   "metadata": {},
   "outputs": [],
   "source": [
    "#Plotting the loss\n",
    "plt.plot(loss, color='orange')\n",
    "plt.title('34% of pruning')\n",
    "plt.xlabel('Epochs')\n",
    "plt.ylabel('Loss')\n",
    "plt.savefig('./img/Structured Pruning/Local/Lottery Ticket/L1/CUB/34_of_pruning_loss.jpg')"
   ]
  },
  {
   "cell_type": "code",
   "execution_count": null,
   "metadata": {},
   "outputs": [],
   "source": [
    "# 42% of pruning\n",
    "acc = [0.12766948741804746, 0.3327214322073472, 0.39939334146145883, 0.4589435059279805, 0.49714041944827875, 0.5139392767986433, 0.5555137023986155, 0.5864106288149137, 0.6001950631454693, 0.6055090474017129]\n",
    "loss = [4.066338103929387, 2.7938992527792856, 2.4584452143034774, 2.15396560863828, 1.9842536137829907, 1.9215477331778408, 1.7698532950684742, 1.6120454049976218, 1.5562059559174908, 1.5708954558933772]\n",
    "\n",
    "plt.plot(acc)\n",
    "plt.title('42% of pruning')\n",
    "plt.xlabel('Epochs')\n",
    "plt.ylabel('Balanced Accuracy')\n",
    "plt.savefig('./img/Structured Pruning/Local/Lottery Ticket/L1/CUB/42_of_pruning.jpg')\n",
    "\n",
    "best_acc.append(max(acc))"
   ]
  },
  {
   "cell_type": "code",
   "execution_count": null,
   "metadata": {},
   "outputs": [],
   "source": [
    "# Plotting the loss\n",
    "plt.plot(loss, color='orange')\n",
    "plt.title('42% of pruning')\n",
    "plt.xlabel('Epochs')\n",
    "plt.ylabel('Loss')\n",
    "plt.savefig('./img/Structured Pruning/Local/Lottery Ticket/L1/CUB/42_of_pruning_loss.jpg')\n"
   ]
  },
  {
   "cell_type": "code",
   "execution_count": null,
   "metadata": {},
   "outputs": [],
   "source": [
    "pruning = [0, 13, 24, 34, 42] # X axis\n",
    "plt.plot(pruning, best_acc)\n",
    "plt.title('Lottery Ticket Pruning')\n",
    "plt.xlabel('Pruning (%)')\n",
    "plt.ylabel('Balanced Accuracy')\n",
    "plt.savefig('./img/Structured Pruning/Local/Lottery Ticket/L1/CUB/lottery_ticket_pruning.jpg')"
   ]
  },
  {
   "attachments": {},
   "cell_type": "markdown",
   "metadata": {},
   "source": [
    "### DTD"
   ]
  },
  {
   "cell_type": "code",
   "execution_count": null,
   "metadata": {},
   "outputs": [],
   "source": [
    "best_acc = []"
   ]
  },
  {
   "cell_type": "code",
   "execution_count": null,
   "metadata": {},
   "outputs": [],
   "source": [
    "# 0% of pruning\n",
    "acc =  [0.44095744680851057, 0.5319148936170213, 0.551063829787234, 0.5686170212765957, 0.5750000000000001, 0.5797872340425532, 0.5622340425531913, 0.6154255319148935, 0.6117021276595742, 0.6218085106382978]\n",
    "loss = [2.1293744305346873, 1.7541058697599046, 1.6453141623354972, 1.5467293673373284, 1.622854066402354, 1.613277638719437, 1.682602799192388, 1.5179107615288268, 1.5397052192941625, 1.5491998444212245]\n",
    "\n",
    "plt.plot(acc)\n",
    "plt.title('0% of pruning')\n",
    "plt.xlabel('Epochs')\n",
    "plt.ylabel('Balanced Accuracy')\n",
    "plt.savefig('./img/Structured Pruning/Local/Lottery Ticket/L1/DTD/0_of_pruning.jpg')\n",
    "\n",
    "best_acc.append(max(acc))"
   ]
  },
  {
   "cell_type": "code",
   "execution_count": null,
   "metadata": {},
   "outputs": [],
   "source": [
    "#Plotting the loss\n",
    "plt.plot(loss, color='orange')\n",
    "plt.title('0% of pruning')\n",
    "plt.xlabel('Epochs')\n",
    "plt.ylabel('Loss')\n",
    "plt.savefig('./img/Structured Pruning/Local/Lottery Ticket/L1/DTD/0_of_pruning_loss.jpg')\n"
   ]
  },
  {
   "cell_type": "code",
   "execution_count": null,
   "metadata": {},
   "outputs": [],
   "source": [
    "# 13% of pruning\n",
    "acc =  [0.23138297872340421, 0.42606382978723406, 0.48989361702127665, 0.5382978723404256, 0.5329787234042552, 0.5367021276595744, 0.5617021276595745, 0.5861702127659575, 0.5718085106382979, 0.5914893617021278]\n",
    "loss = [3.1426133318150296, 2.1004892384752316, 1.8938135623931884, 1.668918887097785, 1.7137276786438962, 1.7095744231913952, 1.627011994351732, 1.5735351899836927, 1.5840150995457427, 1.5595479602509357]\n",
    "\n",
    "plt.plot(acc)\n",
    "plt.title('13% of pruning')\n",
    "plt.xlabel('Epochs')\n",
    "plt.ylabel('Balanced Accuracy')\n",
    "plt.savefig('./img/Structured Pruning/Local/Lottery Ticket/L1/DTD/13_of_pruning.jpg')\n",
    "\n",
    "best_acc.append(max(acc))"
   ]
  },
  {
   "cell_type": "code",
   "execution_count": null,
   "metadata": {},
   "outputs": [],
   "source": [
    "#Plotting the loss\n",
    "plt.plot(loss, color='orange')\n",
    "plt.title('13% of pruning')\n",
    "plt.xlabel('Epochs')\n",
    "plt.ylabel('Loss')\n",
    "plt.savefig('./img/Structured Pruning/Local/Lottery Ticket/L1/DTD/13_of_pruning_loss.jpg')"
   ]
  },
  {
   "cell_type": "code",
   "execution_count": null,
   "metadata": {},
   "outputs": [],
   "source": [
    "# 24% of pruning\n",
    "acc =  [0.2292553191489363, 0.41223404255319135, 0.4670212765957445, 0.5085106382978722, 0.5393617021276594, 0.546808510638298, 0.5367021276595745, 0.5718085106382979, 0.5723404255319149, 0.5957446808510638]\n",
    "loss = [3.174411582946777, 2.1006662495592807, 1.899500302050976, 1.7987452963565258, 1.7336871938502534, 1.677933606188348, 1.6800524721754357, 1.562939624076194, 1.582324686456234, 1.5728692551876635]\n",
    "\n",
    "plt.plot(acc)\n",
    "plt.title('24% of pruning')\n",
    "plt.xlabel('Epochs')\n",
    "plt.ylabel('Balanced Accuracy')\n",
    "plt.savefig('./img/Structured Pruning/Local/Lottery Ticket/L1/DTD/24_of_pruning.jpg')\n",
    "\n",
    "best_acc.append(max(acc))"
   ]
  },
  {
   "cell_type": "code",
   "execution_count": null,
   "metadata": {},
   "outputs": [],
   "source": [
    "#Plotting the loss\n",
    "plt.plot(loss, color='orange')\n",
    "plt.title('24% of pruning')\n",
    "plt.xlabel('Epochs')\n",
    "plt.ylabel('Loss')\n",
    "plt.savefig('./img/Structured Pruning/Local/Lottery Ticket/L1/DTD/24_of_pruning_loss.jpg')"
   ]
  },
  {
   "cell_type": "code",
   "execution_count": null,
   "metadata": {},
   "outputs": [],
   "source": [
    "# 34% of pruning\n",
    "acc =  [0.24521276595744682, 0.40638297872340423, 0.49308510638297853, 0.5196808510638298, 0.5255319148936171, 0.5207446808510638, 0.5558510638297872, 0.5840425531914895, 0.6015957446808511, 0.6]\n",
    "loss = [3.1160517905620817, 2.219820402530914, 1.8403936421617548, 1.7202005208806788, 1.7109014797717967, 1.8094750896413276, 1.6573201022249586, 1.5466612354237983, 1.5581792567638642, 1.565710890546758]\n",
    "\n",
    "plt.plot(acc)\n",
    "plt.title('34% of pruning')\n",
    "plt.xlabel('Epochs')\n",
    "plt.ylabel('Balanced Accuracy')\n",
    "plt.savefig('./img/Structured Pruning/Local/Lottery Ticket/L1/DTD/34_of_pruning.jpg')\n",
    "\n",
    "best_acc.append(max(acc))"
   ]
  },
  {
   "cell_type": "code",
   "execution_count": null,
   "metadata": {},
   "outputs": [],
   "source": [
    "#Plotting the loss\n",
    "plt.plot(loss, color='orange')\n",
    "plt.title('34% of pruning')\n",
    "plt.xlabel('Epochs')\n",
    "plt.ylabel('Loss')\n",
    "plt.savefig('./img/Structured Pruning/Local/Lottery Ticket/L1/DTD/34_of_pruning_loss.jpg')"
   ]
  },
  {
   "cell_type": "code",
   "execution_count": null,
   "metadata": {},
   "outputs": [],
   "source": [
    "# 42% of pruning\n",
    "acc =  [0.2643617021276596, 0.402127659574468, 0.49042553191489363, 0.4989361702127659, 0.5202127659574469, 0.524468085106383, 0.5579787234042553, 0.5781914893617023, 0.5840425531914895, 0.5930851063829787]\n",
    "loss = [3.1539565695093033, 2.207449056239838, 1.8592750513807257, 1.7964679053489199, 1.755777327050554, 1.6869121561659144, 1.688530966068836, 1.5760371852428354, 1.570551914864398, 1.5566523577304596]\n",
    "\n",
    "plt.plot(acc)\n",
    "plt.title('42% of pruning')\n",
    "plt.xlabel('Epochs')\n",
    "plt.ylabel('Balanced Accuracy')\n",
    "plt.savefig('./img/Structured Pruning/Local/Lottery Ticket/L1/DTD/42_of_pruning.jpg')\n",
    "\n",
    "best_acc.append(max(acc))"
   ]
  },
  {
   "cell_type": "code",
   "execution_count": null,
   "metadata": {},
   "outputs": [],
   "source": [
    "#Plotting the loss\n",
    "plt.plot(loss, color='orange')\n",
    "plt.title('42% of pruning')\n",
    "plt.xlabel('Epochs')\n",
    "plt.ylabel('Loss')\n",
    "plt.savefig('./img/Structured Pruning/Local/Lottery Ticket/L1/DTD/42_of_pruning_loss.jpg')"
   ]
  },
  {
   "cell_type": "code",
   "execution_count": null,
   "metadata": {},
   "outputs": [],
   "source": [
    "pruning = [0, 13, 24, 34, 42] # X axis\n",
    "plt.plot(pruning, best_acc)\n",
    "plt.title('Lottery Ticket Pruning')\n",
    "plt.xlabel('Pruning (%)')\n",
    "plt.ylabel('Balanced Accuracy')\n",
    "plt.savefig('./img/Structured Pruning/Local/Lottery Ticket/L1/DTD/lottery_ticket_pruning.jpg')"
   ]
  },
  {
   "attachments": {},
   "cell_type": "markdown",
   "metadata": {},
   "source": [
    "### PET"
   ]
  },
  {
   "cell_type": "code",
   "execution_count": null,
   "metadata": {},
   "outputs": [],
   "source": [
    "best_acc = []"
   ]
  },
  {
   "cell_type": "code",
   "execution_count": null,
   "metadata": {},
   "outputs": [],
   "source": [
    "# 0% of pruning\n",
    "acc =  [0.7619059691176653, 0.7607954357467851, 0.7858672217105805, 0.7952751017323837, 0.7866897614970624, 0.7996700663657192, 0.7928162848064887, 0.8220357567828237, 0.8277370837433553, 0.8347225581975132]\n",
    "loss = [0.7882116953726847, 0.7664488080445282, 0.711931207331756, 0.6699469239453784, 0.6705892153935135, 0.6539413850255966, 0.7167096201520292, 0.5725395083264975, 0.5864430236601966, 0.5584555158569787]\n",
    "\n",
    "plt.plot(acc)\n",
    "plt.title('0% of pruning')\n",
    "plt.xlabel('Epochs')\n",
    "plt.ylabel('Balanced Accuracy')\n",
    "plt.savefig('./img/Structured Pruning/Local/Lottery Ticket/L1/PET/0_of_pruning.jpg')\n",
    "\n",
    "best_acc.append(max(acc))"
   ]
  },
  {
   "cell_type": "code",
   "execution_count": null,
   "metadata": {},
   "outputs": [],
   "source": [
    "#Plotting the loss\n",
    "plt.plot(loss, color='orange')\n",
    "plt.title('0% of pruning')\n",
    "plt.xlabel('Epochs')\n",
    "plt.ylabel('Loss')\n",
    "plt.savefig('./img/Structured Pruning/Local/Lottery Ticket/L1/PET/0_of_pruning_loss.jpg')"
   ]
  },
  {
   "cell_type": "code",
   "execution_count": null,
   "metadata": {},
   "outputs": [],
   "source": [
    "# 13% of pruning\n",
    "acc =  [0.6910157969576975, 0.7139862676481298, 0.7359333638690261, 0.7655321077558008, 0.7351291554625935, 0.7722173866330011, 0.7605861115514274, 0.8003778200429753, 0.818462451761669, 0.8179950621120714]\n",
    "loss = [0.9776938179348951, 0.9245553870687175, 0.847463490349553, 0.7511179032264662, 0.8378926217068635, 0.7362274536647209, 0.7810507943972024, 0.6724120557194478, 0.5991004819269238, 0.6141787454441218]\n",
    "\n",
    "plt.plot(acc)\n",
    "plt.title('13% of pruning')\n",
    "plt.xlabel('Epochs')\n",
    "plt.ylabel('Balanced Accuracy')\n",
    "plt.savefig('./img/Structured Pruning/Local/Lottery Ticket/L1/PET/13_of_pruning.jpg')\n",
    "\n",
    "best_acc.append(max(acc))"
   ]
  },
  {
   "cell_type": "code",
   "execution_count": null,
   "metadata": {},
   "outputs": [],
   "source": [
    "#Plotting the loss\n",
    "plt.plot(loss, color='orange')\n",
    "plt.title('13% of pruning')\n",
    "plt.xlabel('Epochs')\n",
    "plt.ylabel('Loss')\n",
    "plt.savefig('./img/Structured Pruning/Local/Lottery Ticket/L1/PET/13_of_pruning_loss.jpg')"
   ]
  },
  {
   "cell_type": "code",
   "execution_count": null,
   "metadata": {},
   "outputs": [],
   "source": [
    "# 24% of pruning\n",
    "acc =  [0.6528566515957922, 0.7403476998490318, 0.7291135510817464, 0.7585136945512414, 0.7641998083633171, 0.7742427417489884, 0.7653391528831286, 0.802122311045132, 0.8040005023751777, 0.8032418019920295]\n",
    "loss = [1.1327855302059997, 0.8524696551736481, 0.8751358717119508, 0.782773209677369, 0.7864971410094246, 0.7477493997034763, 0.7696532660526162, 0.6535116643501452, 0.6220377961924499, 0.6272767286074522]\n",
    "\n",
    "plt.plot(acc)\n",
    "plt.title('24% of pruning')\n",
    "plt.xlabel('Epochs')\n",
    "plt.ylabel('Balanced Accuracy')\n",
    "plt.savefig('./img/Structured Pruning/Local/Lottery Ticket/L1/PET/24_of_pruning.jpg')\n",
    "\n",
    "best_acc.append(max(acc))"
   ]
  },
  {
   "cell_type": "code",
   "execution_count": null,
   "metadata": {},
   "outputs": [],
   "source": [
    "#Plotting the loss\n",
    "plt.plot(loss, color='orange')\n",
    "plt.title('24% of pruning')\n",
    "plt.xlabel('Epochs')\n",
    "plt.ylabel('Loss')\n",
    "plt.savefig('./img/Structured Pruning/Local/Lottery Ticket/L1/PET/24_of_pruning_loss.jpg')"
   ]
  },
  {
   "cell_type": "code",
   "execution_count": null,
   "metadata": {},
   "outputs": [],
   "source": [
    "# 34% of pruning\n",
    "acc =  [0.6634164934544705, 0.7427868314937865, 0.7162246659579157, 0.753162887809675, 0.7463652976035693, 0.7731452972535364, 0.7733198884391982, 0.7960354824647159, 0.8100288949075998, 0.8192883588098793]\n",
    "loss = [1.1360734471120701, 0.8576767760097704, 0.9064159069863156, 0.800802691117981, 0.8151918904077587, 0.7244652079184265, 0.7348974348089291, 0.6516946931241415, 0.6120066926244755, 0.595016821768083]\n",
    "\n",
    "plt.plot(acc)\n",
    "plt.title('34% of pruning')\n",
    "plt.xlabel('Epochs')\n",
    "plt.ylabel('Balanced Accuracy')\n",
    "plt.savefig('./img/Structured Pruning/Local/Lottery Ticket/L1/PET/34_of_pruning.jpg')\n",
    "\n",
    "best_acc.append(max(acc))"
   ]
  },
  {
   "cell_type": "code",
   "execution_count": null,
   "metadata": {},
   "outputs": [],
   "source": [
    "#Plotting the loss\n",
    "plt.plot(loss, color='orange')\n",
    "plt.title('34% of pruning')\n",
    "plt.xlabel('Epochs')\n",
    "plt.ylabel('Loss')\n",
    "plt.savefig('./img/Structured Pruning/Local/Lottery Ticket/L1/PET/34_of_pruning_loss.jpg')"
   ]
  },
  {
   "cell_type": "code",
   "execution_count": null,
   "metadata": {},
   "outputs": [],
   "source": [
    "# 42% of pruning\n",
    "acc =  [0.7241225601094707, 0.7309996360394334, 0.7486294012087892, 0.7426213929230595, 0.7542246253625347, 0.7731148812824608, 0.7925532790074166, 0.8124038947632799, 0.8245615526729525, 0.8052756746969155]\n",
    "loss = [0.9268025856116839, 0.8744300605084988, 0.8120643290683209, 0.8174059969523064, 0.7870083238292891, 0.7107628318132123, 0.6750512038184694, 0.6166518508218296, 0.5767295599536111, 0.6140834095693148]\n",
    "\n",
    "plt.plot(acc)\n",
    "plt.title('42% of pruning')\n",
    "plt.xlabel('Epochs')\n",
    "plt.ylabel('Balanced Accuracy')\n",
    "plt.savefig('./img/Structured Pruning/Local/Lottery Ticket/L1/PET/42_of_pruning.jpg')\n",
    "\n",
    "best_acc.append(max(acc))"
   ]
  },
  {
   "cell_type": "code",
   "execution_count": null,
   "metadata": {},
   "outputs": [],
   "source": [
    "#Plotting the loss\n",
    "plt.plot(loss, color='orange')\n",
    "plt.title('42% of pruning')\n",
    "plt.xlabel('Epochs')\n",
    "plt.ylabel('Loss')\n",
    "plt.savefig('./img/Structured Pruning/Local/Lottery Ticket/L1/PET/42_of_pruning_loss.jpg')"
   ]
  },
  {
   "cell_type": "code",
   "execution_count": null,
   "metadata": {},
   "outputs": [],
   "source": [
    "pruning = [0, 13, 24, 34, 42] # X axis\n",
    "plt.plot(pruning, best_acc)\n",
    "plt.title('Lottery Ticket Pruning')\n",
    "plt.xlabel('Pruning (%)')\n",
    "plt.ylabel('Balanced Accuracy')\n",
    "plt.savefig('./img/Structured Pruning/Local/Lottery Ticket/L1/PET/lottery_ticket_pruning.jpg')"
   ]
  }
 ],
 "metadata": {
  "kernelspec": {
   "display_name": "Python 3",
   "language": "python",
   "name": "python3"
  },
  "language_info": {
   "codemirror_mode": {
    "name": "ipython",
    "version": 3
   },
   "file_extension": ".py",
   "mimetype": "text/x-python",
   "name": "python",
   "nbconvert_exporter": "python",
   "pygments_lexer": "ipython3",
   "version": "3.11.1 (tags/v3.11.1:a7a450f, Dec  6 2022, 19:58:39) [MSC v.1934 64 bit (AMD64)]"
  },
  "orig_nbformat": 4,
  "vscode": {
   "interpreter": {
    "hash": "5238573367df39f7286bb46f9ff5f08f63a01a80960060ce41e3c79b190280fa"
   }
  }
 },
 "nbformat": 4,
 "nbformat_minor": 2
}
