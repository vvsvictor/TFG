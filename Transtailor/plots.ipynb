{
 "cells": [
  {
   "cell_type": "code",
   "execution_count": null,
   "metadata": {},
   "outputs": [],
   "source": [
    "#Importar plt\n",
    "import matplotlib.pyplot as plt\n",
    "import numpy as np\n",
    "from PIL import Image"
   ]
  },
  {
   "cell_type": "markdown",
   "metadata": {},
   "source": [
    "### Versión 1"
   ]
  },
  {
   "cell_type": "code",
   "execution_count": null,
   "metadata": {},
   "outputs": [],
   "source": [
    "accuracy = [0.012721264367816091, 0.017362068965517244, 0.019448875836806875, 0.017204063178201102, 0.01879761904761905, 0.018029556650246307, 0.021431034482758623, 0.021682377966860726, 0.019825312618416063, 0.024502748625687153, 0.023395099153719835, 0.020591552126034883, 0.025217170635461486, 0.019415708812260537, 0.023017758062360758, 0.02590035826242722, 0.02113668165917041, 0.0260360005075542, 0.02561971936109867, 0.026620879120879112, 0.026209381211649806, 0.027617416566442052, 0.025625776397515527, 0.025918362247447705, 0.023575235109717867, 0.02390481453412488, 0.025744178235557538, 0.02535654425534485, 0.0260831850821001, 0.027760973908650063, 0.025315745973167263, 0.02815999894789447, 0.0288294234501131, 0.027191276614440034, 0.02838196373841051, 0.026236242601310068, 0.025891106020416364, 0.0280013495999253, 0.028148541114058356, 0.03268176301459659, 0.02760111391672585, 0.025955817545772565, 0.03183607384619378, 0.03128509171987433, 0.02786815333591945, 0.031491709978650716, 0.026094836198284472, 0.028499933017174392, 0.030011270297252306, 0.02991450859856131, 0.02883775419982317, 0.032670736310166586, 0.02772579956275608, 0.029921485935354, 0.027984755000122315, 0.027819869785387027, 0.025835031784806898, 0.03026308844412292, 0.02376553710324325, 0.031708842839652425]\n",
    "plt.plot(accuracy)\n",
    "plt.ylabel('accuracy')\n",
    "plt.xlabel('epochs')\n",
    "plt.title('Transtailor Ws*f (Version 1)')\n",
    "plt.savefig('./img/V1_Wsf.jpg')"
   ]
  },
  {
   "cell_type": "code",
   "execution_count": null,
   "metadata": {},
   "outputs": [],
   "source": [
    "filters = [0,0,0,0,0,0,0,0,24,54,116,143,179]\n",
    "plt.bar(range(len(filters)), filters)\n",
    "plt.ylabel('Number of Pruned Filters')\n",
    "plt.xlabel('Layer Index')\n",
    "plt.title('Transtailor Pruned Filters (Version 1)')\n",
    "plt.savefig('./img/V1_filters.jpg')"
   ]
  },
  {
   "cell_type": "code",
   "execution_count": null,
   "metadata": {},
   "outputs": [],
   "source": [
    "accuracy = [0.005, 0.005, 0.005, 0.005, 0.005, 0.005, 0.002923076923076923, 0.005, 0.005, 0.005, 0.005, 0.005, 0.005, 0.005, 0.005, 0.005, 0.005, 0.005, 0.005, 0.005, 0.005, 0.005, 0.005, 0.0055000000000000005, 0.005, 0.005, 0.005, 0.005, 0.005, 0.005, 0.005, 0.0051666666666666675, 0.004666666666666667, 0.005333333333333333, 0.004756410256410256, 0.005, 0.0051666666666666675, 0.005, 0.005, 0.005, 0.005988505747126437, 0.004261904761904762, 0.005, 0.006666666666666666, 0.005333333333333333, 0.005, 0.005, 0.005, 0.005, 0.005, 0.005, 0.005, 0.005, 0.005, 0.005, 0.005, 0.005, 0.004853128991060026, 0.0051666666666666675, 0.0051666666666666675]\n",
    "plt.plot(accuracy)\n",
    "plt.ylabel('accuracy')\n",
    "plt.xlabel('epochs')\n",
    "plt.title('Transtailor Wtp (Version 1)')\n",
    "plt.savefig('./img/V1_Wtp.png')\n",
    "Image.open('./img/V1_Wtp.png').convert('RGB').save('./img/V1_Wtp.jpg','JPEG')"
   ]
  },
  {
   "cell_type": "markdown",
   "metadata": {},
   "source": [
    "### Version 2"
   ]
  },
  {
   "cell_type": "code",
   "execution_count": null,
   "metadata": {},
   "outputs": [],
   "source": [
    "accuracy = [0.4989150497507437, 0.510869722904028, 0.5076267584714281, 0.4998094309379129, 0.5037258291601578, 0.5047768775649505, 0.5077153490128122, 0.5089530999196233, 0.5064905367040616, 0.49698757022616774, 0.5032173105446796, 0.4970717498050608, 0.5019591684161834, 0.49821382220875243, 0.49708664671467423, 0.4868267054086516, 0.4877731594101234, 0.48448364564497326, 0.48118291507175365, 0.478276331898343]\n",
    "plt.plot(accuracy)\n",
    "plt.ylabel('accuracy')\n",
    "plt.xlabel('epochs')\n",
    "plt.title('Transtailor Ws*f (Version 2)')\n",
    "plt.savefig('./img/V2_Wsf.png')\n",
    "Image.open('./img/V2_Wsf.png').convert('RGB').save('./img/V2_Wsf.jpg','JPEG')\n"
   ]
  },
  {
   "cell_type": "code",
   "execution_count": null,
   "metadata": {},
   "outputs": [],
   "source": [
    "filters = [1,1,9,2,15,19,16,55,54,56,54,49,91]\n",
    "plt.bar(range(len(filters)), filters)\n",
    "plt.ylabel('Number of Pruned Filters')\n",
    "plt.xlabel('Layer Index')\n",
    "plt.title('Transtailor Pruned Filters (Version 2)')\n",
    "plt.savefig('./img/V2_filters.png')\n",
    "Image.open('./img/V2_filters.png').convert('RGB').save('./img/V2_filters.jpg','JPEG')\n"
   ]
  },
  {
   "cell_type": "code",
   "execution_count": null,
   "metadata": {},
   "outputs": [],
   "source": [
    "accuracy = [0.0040,0.0050,0.0052,0.0057,0.0052,0.0047,0.0042,0.0042,0.0043,0.0042,0.0043,0.0047, 0.0043]\n",
    "plt.plot(accuracy)\n",
    "plt.ylabel('accuracy')\n",
    "plt.xlabel('epochs')\n",
    "plt.title('Transtailor Wtp (Version 2)')\n",
    "plt.savefig('./img/V2_Wtp.png')\n",
    "Image.open('./img/V2_Wtp.png').convert('RGB').save('./img/V2_Wtp.jpg','JPEG')\n"
   ]
  }
 ],
 "metadata": {
  "kernelspec": {
   "display_name": "Python 3",
   "language": "python",
   "name": "python3"
  },
  "language_info": {
   "codemirror_mode": {
    "name": "ipython",
    "version": 3
   },
   "file_extension": ".py",
   "mimetype": "text/x-python",
   "name": "python",
   "nbconvert_exporter": "python",
   "pygments_lexer": "ipython3",
   "version": "3.11.1 (tags/v3.11.1:a7a450f, Dec  6 2022, 19:58:39) [MSC v.1934 64 bit (AMD64)]"
  },
  "vscode": {
   "interpreter": {
    "hash": "5238573367df39f7286bb46f9ff5f08f63a01a80960060ce41e3c79b190280fa"
   }
  }
 },
 "nbformat": 4,
 "nbformat_minor": 4
}
